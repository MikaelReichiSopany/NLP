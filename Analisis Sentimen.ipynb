{
 "cells": [
  {
   "cell_type": "code",
   "execution_count": 15,
   "metadata": {},
   "outputs": [],
   "source": [
    "import pandas as pd\n",
    "import re\n",
    "import nltk\n",
    "from Sastrawi.Stemmer.StemmerFactory import StemmerFactory\n",
    "from sklearn.model_selection import train_test_split\n",
    "from sklearn.feature_extraction.text import TfidfVectorizer\n",
    "from sklearn.ensemble import RandomForestClassifier\n",
    "from sklearn.metrics import accuracy_score, confusion_matrix, classification_report, ConfusionMatrixDisplay\n",
    "import graphviz\n",
    "from sklearn.tree import export_graphviz"
   ]
  },
  {
   "cell_type": "code",
   "execution_count": 16,
   "metadata": {},
   "outputs": [
    {
     "name": "stderr",
     "output_type": "stream",
     "text": [
      "[nltk_data] Downloading package stopwords to\n",
      "[nltk_data]     C:\\Users\\Zerry\\AppData\\Roaming\\nltk_data...\n",
      "[nltk_data]   Package stopwords is already up-to-date!\n"
     ]
    },
    {
     "data": {
      "text/plain": [
       "True"
      ]
     },
     "execution_count": 16,
     "metadata": {},
     "output_type": "execute_result"
    }
   ],
   "source": [
    "nltk.download('stopwords')"
   ]
  },
  {
   "cell_type": "code",
   "execution_count": 17,
   "metadata": {},
   "outputs": [],
   "source": [
    "df = pd.read_excel('Dataset (2).xlsx')"
   ]
  },
  {
   "cell_type": "code",
   "execution_count": 18,
   "metadata": {},
   "outputs": [],
   "source": [
    "factory = StemmerFactory()\n",
    "stemmer = factory.create_stemmer()\n",
    "\n",
    "stop_words = set(nltk.corpus.stopwords.words('indonesian'))\n",
    "\n",
    "# Fungsi pembersihan teks (preprocessing)\n",
    "def clean_text(text):\n",
    "\n",
    "    text = re.sub(r'@[A-Za-z0-9_]+', '', text)\n",
    "    text = re.sub(r'http\\S+', '', text)\n",
    "    text = re.sub(r'\\d+', '', text)\n",
    "    text = re.sub(r'[^\\w\\s]', '', text)\n",
    "    \n",
    "    text = text.lower()\n",
    "    \n",
    "    words = [word for word in text.split() if word not in stop_words]\n",
    "    \n",
    "    stemmed_words = [stemmer.stem(word) for word in words]\n",
    "    \n",
    "    return ' '.join(stemmed_words)"
   ]
  },
  {
   "cell_type": "code",
   "execution_count": 19,
   "metadata": {},
   "outputs": [],
   "source": [
    "df['Cleaned_Tweet'] = df['text'].apply(clean_text)"
   ]
  },
  {
   "cell_type": "code",
   "execution_count": 20,
   "metadata": {},
   "outputs": [],
   "source": [
    "# def print_tokens(text):\n",
    "#     tokens = text.split()\n",
    "#     print(', '.join(tokens))\n",
    "\n",
    "# df['Cleaned_Tweet'].apply(print_tokens)"
   ]
  },
  {
   "cell_type": "code",
   "execution_count": 21,
   "metadata": {},
   "outputs": [],
   "source": [
    "# tokens = []\n",
    "# for text in df['Cleaned_Tweet']:\n",
    "#     tokens.extend(text.split())\n",
    "\n",
    "# token_df = pd.DataFrame({'token': tokens})"
   ]
  },
  {
   "cell_type": "code",
   "execution_count": 22,
   "metadata": {},
   "outputs": [],
   "source": [
    "df_token = pd.read_excel('token(1).xlsx')\n",
    "df_pos = df_token[df_token['Label'] == 1]\n",
    "df_neg = df_token[df_token['Label'] == 2]"
   ]
  },
  {
   "cell_type": "code",
   "execution_count": 23,
   "metadata": {},
   "outputs": [],
   "source": [
    "# Pelabelan Sentimen Manual untuk Teks\n",
    "\n",
    "positive_words = df_pos['token'].tolist()\n",
    "negative_words = df_neg['token'].tolist()\n",
    "\n",
    "def manual_sentiment_label(text):\n",
    "    words = text.split()\n",
    "    positive_count = 0\n",
    "    negative_count = 0\n",
    "    \n",
    "    for word in words:\n",
    "        if word in positive_words:\n",
    "            positive_count += 1\n",
    "        elif word in negative_words:\n",
    "            negative_count += 1\n",
    "    \n",
    "\n",
    "    if positive_count > negative_count:\n",
    "        return 1 \n",
    "    elif negative_count > positive_count:\n",
    "        return 0 \n",
    "    else:\n",
    "        return 2 \n",
    "\n",
    "df['Manual_Sentiment'] = df['Cleaned_Tweet'].apply(manual_sentiment_label)"
   ]
  },
  {
   "cell_type": "code",
   "execution_count": 24,
   "metadata": {},
   "outputs": [
    {
     "data": {
      "text/plain": [
       "0      0\n",
       "1      1\n",
       "2      1\n",
       "3      0\n",
       "4      1\n",
       "      ..\n",
       "543    1\n",
       "544    2\n",
       "545    2\n",
       "546    2\n",
       "547    0\n",
       "Name: Manual_Sentiment, Length: 548, dtype: int64"
      ]
     },
     "execution_count": 24,
     "metadata": {},
     "output_type": "execute_result"
    }
   ],
   "source": [
    "df['Manual_Sentiment']"
   ]
  },
  {
   "cell_type": "code",
   "execution_count": 25,
   "metadata": {},
   "outputs": [
    {
     "data": {
      "text/plain": [
       "0      ubah iklim fake agenda israel tenggelam israel...\n",
       "1      udara bersih kutuk james watt mesin uap timbul...\n",
       "2      fesyen seru kalo layer tinggal negara tropis h...\n",
       "3      salah jarang perhati publik dampak krisis ikli...\n",
       "4      carbon trade mahasiswa negara maju curang lewa...\n",
       "                             ...                        \n",
       "543    hadir eselon direktur jenderal kendali ubah ik...\n",
       "544    orang ribut jejak karbon efek rumah kaca ubah ...\n",
       "545                      ubah iklim hutan bas masyarakat\n",
       "546                   ubah iklim rusak ozon ulah manusia\n",
       "547    produksi beras tanah air cukup butuh masyaraka...\n",
       "Name: Cleaned_Tweet, Length: 548, dtype: object"
      ]
     },
     "execution_count": 25,
     "metadata": {},
     "output_type": "execute_result"
    }
   ],
   "source": [
    "df['Cleaned_Tweet']"
   ]
  },
  {
   "cell_type": "code",
   "execution_count": 26,
   "metadata": {},
   "outputs": [],
   "source": [
    "def token_sentiment(text):\n",
    "    words = text.split() \n",
    "    sentiment_per_word = []\n",
    "    \n",
    "    for word in words:\n",
    "        if word in positive_words:\n",
    "            sentiment_per_word.append((word, \"Positif\"))\n",
    "        elif word in negative_words:\n",
    "            sentiment_per_word.append((word, \"Negatif\"))\n",
    "        else:\n",
    "            sentiment_per_word.append((word, \"Netral\"))\n",
    "    \n",
    "    return sentiment_per_word"
   ]
  },
  {
   "cell_type": "code",
   "execution_count": 27,
   "metadata": {},
   "outputs": [],
   "source": [
    "df['Token_Sentiment'] = df['Cleaned_Tweet'].apply(token_sentiment)"
   ]
  },
  {
   "cell_type": "code",
   "execution_count": 28,
   "metadata": {},
   "outputs": [
    {
     "data": {
      "text/plain": [
       "0      [(ubah, Netral), (iklim, Netral), (fake, Netra...\n",
       "1      [(udara, Netral), (bersih, Positif), (kutuk, N...\n",
       "2      [(fesyen, Netral), (seru, Positif), (kalo, Net...\n",
       "3      [(salah, Negatif), (jarang, Negatif), (perhati...\n",
       "4      [(carbon, Netral), (trade, Netral), (mahasiswa...\n",
       "                             ...                        \n",
       "543    [(hadir, Netral), (eselon, Netral), (direktur,...\n",
       "544    [(orang, Netral), (ribut, Netral), (jejak, Net...\n",
       "545    [(ubah, Netral), (iklim, Netral), (hutan, Netr...\n",
       "546    [(ubah, Netral), (iklim, Netral), (rusak, Netr...\n",
       "547    [(produksi, Netral), (beras, Netral), (tanah, ...\n",
       "Name: Token_Sentiment, Length: 548, dtype: object"
      ]
     },
     "execution_count": 28,
     "metadata": {},
     "output_type": "execute_result"
    }
   ],
   "source": [
    "df['Token_Sentiment']"
   ]
  },
  {
   "cell_type": "code",
   "execution_count": 29,
   "metadata": {},
   "outputs": [],
   "source": [
    "tfidf = TfidfVectorizer(max_features=1000)\n",
    "X = tfidf.fit_transform(df['Cleaned_Tweet']).toarray()\n",
    "y = df['Manual_Sentiment']"
   ]
  },
  {
   "cell_type": "code",
   "execution_count": 30,
   "metadata": {},
   "outputs": [],
   "source": [
    "X_train, X_test, y_train, y_test = train_test_split(X, y, test_size=0.2, random_state=42)\n"
   ]
  },
  {
   "cell_type": "code",
   "execution_count": 31,
   "metadata": {},
   "outputs": [],
   "source": [
    "model = RandomForestClassifier(max_depth=None, random_state=42)\n",
    "model.fit(X_train, y_train)\n",
    "\n",
    "y_pred = model.predict(X_test)"
   ]
  },
  {
   "cell_type": "code",
   "execution_count": 32,
   "metadata": {},
   "outputs": [],
   "source": [
    "# for i in range(3):\n",
    "#     tree = model.estimators_[i]\n",
    "#     dot_data = export_graphviz(tree,\n",
    "#                             #    feature_names=X_train.columns,  \n",
    "#                             #    class_names=y_train.values, \n",
    "#                                filled=True,  \n",
    "#                                impurity=False, \n",
    "#                                proportion=True)\n",
    "#     graph = graphviz.Source(dot_data)\n",
    "#     display(graph)"
   ]
  },
  {
   "cell_type": "code",
   "execution_count": 33,
   "metadata": {},
   "outputs": [
    {
     "data": {
      "text/plain": [
       "<sklearn.metrics._plot.confusion_matrix.ConfusionMatrixDisplay at 0x1b1261533d0>"
      ]
     },
     "execution_count": 33,
     "metadata": {},
     "output_type": "execute_result"
    },
    {
     "data": {
      "image/png": "[encoded data removed]",
      "text/plain": [
       "<Figure size 640x480 with 2 Axes>"
      ]
     },
     "metadata": {},
     "output_type": "display_data"
    }
   ],
   "source": [
    "conf_matrix = confusion_matrix(y_test, y_pred)\n",
    "\n",
    "ConfusionMatrixDisplay(confusion_matrix=conf_matrix, display_labels=[\"Negatif\", \"Positif\", \"Netral\"]).plot()"
   ]
  },
  {
   "cell_type": "code",
   "execution_count": 34,
   "metadata": {},
   "outputs": [
    {
     "name": "stdout",
     "output_type": "stream",
     "text": [
      "Classification Report:\n",
      "              precision    recall  f1-score   support\n",
      "\n",
      "     Negatif       0.83      0.77      0.80        26\n",
      "     Positif       0.67      0.13      0.22        15\n",
      "      Netral       0.78      0.94      0.86        69\n",
      "\n",
      "    accuracy                           0.79       110\n",
      "   macro avg       0.76      0.61      0.63       110\n",
      "weighted avg       0.78      0.79      0.76       110\n",
      "\n"
     ]
    }
   ],
   "source": [
    "report = classification_report(y_test, y_pred, target_names=[\"Negatif\", \"Positif\", \"Netral\"])\n",
    "print(\"Classification Report:\")\n",
    "print(report)"
   ]
  }
 ],
 "metadata": {
  "kernelspec": {
   "display_name": "Python 3",
   "language": "python",
   "name": "python3"
  },
  "language_info": {
   "codemirror_mode": {
    "name": "ipython",
    "version": 3
   },
   "file_extension": ".py",
   "mimetype": "text/x-python",
   "name": "python",
   "nbconvert_exporter": "python",
   "pygments_lexer": "ipython3",
   "version": "3.9.11"
  }
 },
 "nbformat": 4,
 "nbformat_minor": 2
}
